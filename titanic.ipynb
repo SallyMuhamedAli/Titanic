{
 "cells": [
  {
   "cell_type": "code",
   "execution_count": 1,
   "id": "c0d457e7",
   "metadata": {},
   "outputs": [],
   "source": [
    "import pandas as pd \n",
    "import numpy as np \n",
    "from sklearn .model_selection import train_test_split\n",
    "import matplotlib.pyplot as plt \n",
    "import seaborn as sns\n",
    "from sklearn.metrics import mean_squared_error\n",
    "from sklearn.metrics import accuracy_score"
   ]
  },
  {
   "cell_type": "code",
   "execution_count": 2,
   "id": "9c63a0fb",
   "metadata": {},
   "outputs": [
    {
     "data": {
      "text/html": [
       "<div>\n",
       "<style scoped>\n",
       "    .dataframe tbody tr th:only-of-type {\n",
       "        vertical-align: middle;\n",
       "    }\n",
       "\n",
       "    .dataframe tbody tr th {\n",
       "        vertical-align: top;\n",
       "    }\n",
       "\n",
       "    .dataframe thead th {\n",
       "        text-align: right;\n",
       "    }\n",
       "</style>\n",
       "<table border=\"1\" class=\"dataframe\">\n",
       "  <thead>\n",
       "    <tr style=\"text-align: right;\">\n",
       "      <th></th>\n",
       "      <th>PassengerId</th>\n",
       "      <th>Name</th>\n",
       "      <th>Pclass</th>\n",
       "      <th>Gender</th>\n",
       "      <th>Age</th>\n",
       "      <th>SibSp</th>\n",
       "      <th>Parch</th>\n",
       "      <th>Ticket</th>\n",
       "      <th>Fare</th>\n",
       "      <th>Cabin</th>\n",
       "      <th>Embarked</th>\n",
       "      <th>Survived</th>\n",
       "    </tr>\n",
       "  </thead>\n",
       "  <tbody>\n",
       "    <tr>\n",
       "      <th>0</th>\n",
       "      <td>1</td>\n",
       "      <td>Braund, Mr. Owen Harris</td>\n",
       "      <td>3</td>\n",
       "      <td>male</td>\n",
       "      <td>22.0</td>\n",
       "      <td>1</td>\n",
       "      <td>0</td>\n",
       "      <td>A/5 21171</td>\n",
       "      <td>7.2500</td>\n",
       "      <td>NaN</td>\n",
       "      <td>S</td>\n",
       "      <td>0</td>\n",
       "    </tr>\n",
       "    <tr>\n",
       "      <th>1</th>\n",
       "      <td>2</td>\n",
       "      <td>Cumings, Mrs. John Bradley (Florence Briggs Th...</td>\n",
       "      <td>1</td>\n",
       "      <td>female</td>\n",
       "      <td>38.0</td>\n",
       "      <td>1</td>\n",
       "      <td>0</td>\n",
       "      <td>PC 17599</td>\n",
       "      <td>71.2833</td>\n",
       "      <td>C85</td>\n",
       "      <td>C</td>\n",
       "      <td>1</td>\n",
       "    </tr>\n",
       "    <tr>\n",
       "      <th>2</th>\n",
       "      <td>3</td>\n",
       "      <td>Heikkinen, Miss. Laina</td>\n",
       "      <td>3</td>\n",
       "      <td>female</td>\n",
       "      <td>26.0</td>\n",
       "      <td>0</td>\n",
       "      <td>0</td>\n",
       "      <td>STON/O2. 3101282</td>\n",
       "      <td>7.9250</td>\n",
       "      <td>NaN</td>\n",
       "      <td>S</td>\n",
       "      <td>1</td>\n",
       "    </tr>\n",
       "  </tbody>\n",
       "</table>\n",
       "</div>"
      ],
      "text/plain": [
       "   PassengerId                                               Name  Pclass  \\\n",
       "0            1                            Braund, Mr. Owen Harris       3   \n",
       "1            2  Cumings, Mrs. John Bradley (Florence Briggs Th...       1   \n",
       "2            3                             Heikkinen, Miss. Laina       3   \n",
       "\n",
       "   Gender   Age  SibSp  Parch            Ticket     Fare Cabin Embarked  \\\n",
       "0    male  22.0      1      0         A/5 21171   7.2500   NaN        S   \n",
       "1  female  38.0      1      0          PC 17599  71.2833   C85        C   \n",
       "2  female  26.0      0      0  STON/O2. 3101282   7.9250   NaN        S   \n",
       "\n",
       "   Survived  \n",
       "0         0  \n",
       "1         1  \n",
       "2         1  "
      ]
     },
     "execution_count": 2,
     "metadata": {},
     "output_type": "execute_result"
    }
   ],
   "source": [
    "sheet=pd.read_csv('titanic.csv')\n",
    "sheet.head(n=3)"
   ]
  },
  {
   "cell_type": "code",
   "execution_count": 3,
   "id": "98bb56f9",
   "metadata": {},
   "outputs": [
    {
     "data": {
      "text/html": [
       "<div>\n",
       "<style scoped>\n",
       "    .dataframe tbody tr th:only-of-type {\n",
       "        vertical-align: middle;\n",
       "    }\n",
       "\n",
       "    .dataframe tbody tr th {\n",
       "        vertical-align: top;\n",
       "    }\n",
       "\n",
       "    .dataframe thead th {\n",
       "        text-align: right;\n",
       "    }\n",
       "</style>\n",
       "<table border=\"1\" class=\"dataframe\">\n",
       "  <thead>\n",
       "    <tr style=\"text-align: right;\">\n",
       "      <th></th>\n",
       "      <th>Pclass</th>\n",
       "      <th>Gender</th>\n",
       "      <th>Age</th>\n",
       "      <th>SibSp</th>\n",
       "      <th>Parch</th>\n",
       "      <th>Fare</th>\n",
       "      <th>Survived</th>\n",
       "    </tr>\n",
       "  </thead>\n",
       "  <tbody>\n",
       "    <tr>\n",
       "      <th>0</th>\n",
       "      <td>3</td>\n",
       "      <td>male</td>\n",
       "      <td>22.0</td>\n",
       "      <td>1</td>\n",
       "      <td>0</td>\n",
       "      <td>7.2500</td>\n",
       "      <td>0</td>\n",
       "    </tr>\n",
       "    <tr>\n",
       "      <th>1</th>\n",
       "      <td>1</td>\n",
       "      <td>female</td>\n",
       "      <td>38.0</td>\n",
       "      <td>1</td>\n",
       "      <td>0</td>\n",
       "      <td>71.2833</td>\n",
       "      <td>1</td>\n",
       "    </tr>\n",
       "  </tbody>\n",
       "</table>\n",
       "</div>"
      ],
      "text/plain": [
       "   Pclass  Gender   Age  SibSp  Parch     Fare  Survived\n",
       "0       3    male  22.0      1      0   7.2500         0\n",
       "1       1  female  38.0      1      0  71.2833         1"
      ]
     },
     "execution_count": 3,
     "metadata": {},
     "output_type": "execute_result"
    }
   ],
   "source": [
    "sheet.drop(['PassengerId','Name','Ticket','Cabin','Embarked'],axis='columns',inplace=True)\n",
    "sheet.head(n=2)"
   ]
  },
  {
   "cell_type": "code",
   "execution_count": 4,
   "id": "cd42b371",
   "metadata": {},
   "outputs": [
    {
     "data": {
      "text/plain": [
       "Index(['Age'], dtype='object')"
      ]
     },
     "execution_count": 4,
     "metadata": {},
     "output_type": "execute_result"
    }
   ],
   "source": [
    "sheet.columns[sheet.isna().any()]"
   ]
  },
  {
   "cell_type": "code",
   "execution_count": 5,
   "id": "1125181b",
   "metadata": {},
   "outputs": [
    {
     "data": {
      "text/plain": [
       "0                         22.0\n",
       "1                         38.0\n",
       "2                         26.0\n",
       "3                         35.0\n",
       "4                         35.0\n",
       "                ...           \n",
       "886                       27.0\n",
       "887                       19.0\n",
       "888    <built-in function min>\n",
       "889                       26.0\n",
       "890                       32.0\n",
       "Name: Age, Length: 891, dtype: object"
      ]
     },
     "execution_count": 5,
     "metadata": {},
     "output_type": "execute_result"
    }
   ],
   "source": [
    "sheet['Age'].fillna(value=min)"
   ]
  },
  {
   "cell_type": "code",
   "execution_count": 6,
   "id": "5b340319",
   "metadata": {},
   "outputs": [],
   "source": [
    "x=sheet.drop(['Survived'],axis='columns')\n",
    "y=sheet.Survived"
   ]
  },
  {
   "cell_type": "code",
   "execution_count": 7,
   "id": "4671c8e2",
   "metadata": {},
   "outputs": [],
   "source": [
    "dumins=pd.get_dummies(x.Gender)\n",
    "x=pd.concat([x,dumins],axis='columns')\n",
    "x.Age=x.Age.fillna(x.Age.mean())\n",
    "x.drop(['Gender','male'],axis='columns',inplace=True)"
   ]
  },
  {
   "cell_type": "code",
   "execution_count": 8,
   "id": "db62f2f8",
   "metadata": {},
   "outputs": [],
   "source": [
    "x_train,x_test,y_train,y_test=train_test_split(x,y,train_size=.8)"
   ]
  },
  {
   "cell_type": "code",
   "execution_count": 9,
   "id": "ac42f871",
   "metadata": {},
   "outputs": [],
   "source": [
    "from sklearn.preprocessing import StandardScaler\n",
    "Scaler=StandardScaler()\n",
    "x_train=Scaler.fit_transform(x_train)\n",
    "x_test=Scaler.fit_transform(x_test)\n"
   ]
  },
  {
   "cell_type": "markdown",
   "id": "025c46e4",
   "metadata": {},
   "source": [
    "SVM with linear "
   ]
  },
  {
   "cell_type": "code",
   "execution_count": 10,
   "id": "d5de64fe",
   "metadata": {},
   "outputs": [
    {
     "data": {
      "text/plain": [
       "77.6536312849162"
      ]
     },
     "execution_count": 10,
     "metadata": {},
     "output_type": "execute_result"
    }
   ],
   "source": [
    "from sklearn.svm import SVC\n",
    "model=SVC(kernel='linear')\n",
    "model.fit(x_train,y_train)\n",
    "y_hat=model.predict(x_test)\n",
    "accuracy = accuracy_score(y_test,y_hat)*100\n",
    "accuracy "
   ]
  },
  {
   "cell_type": "markdown",
   "id": "d57afec5",
   "metadata": {},
   "source": [
    "SVM with Rbf"
   ]
  },
  {
   "cell_type": "code",
   "execution_count": 11,
   "id": "532fbe72",
   "metadata": {},
   "outputs": [
    {
     "data": {
      "text/plain": [
       "82.12290502793296"
      ]
     },
     "execution_count": 11,
     "metadata": {},
     "output_type": "execute_result"
    }
   ],
   "source": [
    "from sklearn.svm import SVC\n",
    "model_1=SVC(kernel='rbf')\n",
    "model_1.fit(x_train,y_train)\n",
    "y_hat=model_1.predict(x_test)\n",
    "accuracy = accuracy_score(y_test,y_hat)*100\n",
    "accuracy "
   ]
  },
  {
   "cell_type": "markdown",
   "id": "91af0fa0",
   "metadata": {},
   "source": [
    "SVM with POIY"
   ]
  },
  {
   "cell_type": "code",
   "execution_count": 12,
   "id": "af5c458a",
   "metadata": {},
   "outputs": [
    {
     "data": {
      "text/plain": [
       "81.56424581005587"
      ]
     },
     "execution_count": 12,
     "metadata": {},
     "output_type": "execute_result"
    }
   ],
   "source": [
    "from sklearn.svm import SVC\n",
    "model_2=SVC(kernel='poly')\n",
    "model_2.fit(x_train,y_train)\n",
    "y_hat=model_2.predict(x_test)\n",
    "accuracy = accuracy_score(y_test,y_hat)*100\n",
    "accuracy "
   ]
  },
  {
   "cell_type": "markdown",
   "id": "b91491ef",
   "metadata": {},
   "source": [
    "SVR with POLY"
   ]
  },
  {
   "cell_type": "code",
   "execution_count": 13,
   "id": "e1c818e2",
   "metadata": {},
   "outputs": [
    {
     "data": {
      "text/plain": [
       "22.150262346236865"
      ]
     },
     "execution_count": 13,
     "metadata": {},
     "output_type": "execute_result"
    }
   ],
   "source": [
    "from sklearn.svm import SVR\n",
    "model_9=SVR(kernel='poly')\n",
    "model_9.fit(x_train,y_train)\n",
    "y_hat=model_9.predict(x_test)\n",
    "mse=mean_squared_error(y_test,y_hat)*100\n",
    "mse"
   ]
  },
  {
   "cell_type": "markdown",
   "id": "b46f3799",
   "metadata": {},
   "source": [
    "SVR With RBF"
   ]
  },
  {
   "cell_type": "code",
   "execution_count": 14,
   "id": "15334ea5",
   "metadata": {},
   "outputs": [
    {
     "data": {
      "text/plain": [
       "14.759012946047589"
      ]
     },
     "execution_count": 14,
     "metadata": {},
     "output_type": "execute_result"
    }
   ],
   "source": [
    "from sklearn.svm import SVR\n",
    "model_7=SVR(kernel='rbf')\n",
    "model_7.fit(x_train,y_train)\n",
    "y_hat=model_7.predict(x_test)\n",
    "mse=mean_squared_error(y_test,y_hat)*100\n",
    "mse"
   ]
  },
  {
   "cell_type": "markdown",
   "id": "df769cbe",
   "metadata": {},
   "source": [
    "SVR With Linear"
   ]
  },
  {
   "cell_type": "code",
   "execution_count": 15,
   "id": "f85b7f5f",
   "metadata": {},
   "outputs": [
    {
     "data": {
      "text/plain": [
       "19.107858312473326"
      ]
     },
     "execution_count": 15,
     "metadata": {},
     "output_type": "execute_result"
    }
   ],
   "source": [
    "from sklearn.svm import SVR\n",
    "model_8=SVR(kernel='linear')\n",
    "model_8.fit(x_train,y_train)\n",
    "y_hat=model_8.predict(x_test)\n",
    "mse=mean_squared_error(y_test,y_hat)*100\n",
    "mse"
   ]
  },
  {
   "cell_type": "markdown",
   "id": "c256f3a4",
   "metadata": {},
   "source": [
    "Decision Tree Classifier"
   ]
  },
  {
   "cell_type": "code",
   "execution_count": 16,
   "id": "185f3bfa",
   "metadata": {},
   "outputs": [
    {
     "data": {
      "text/plain": [
       "77.6536312849162"
      ]
     },
     "execution_count": 16,
     "metadata": {},
     "output_type": "execute_result"
    }
   ],
   "source": [
    "from sklearn.tree import DecisionTreeClassifier,plot_tree\n",
    "model_3= DecisionTreeClassifier(criterion='gini',max_depth=3)\n",
    "model_3=model.fit(x_train,y_train)\n",
    "y_hat=model_3.predict(x_test)\n",
    "accuracy=accuracy_score(y_test,y_hat)*100\n",
    "accuracy\n"
   ]
  },
  {
   "cell_type": "code",
   "execution_count": 17,
   "id": "552b6fd4",
   "metadata": {},
   "outputs": [
    {
     "data": {
      "text/plain": [
       "<AxesSubplot:>"
      ]
     },
     "execution_count": 17,
     "metadata": {},
     "output_type": "execute_result"
    },
    {
     "data": {
      "image/png": "[encoded data removed]",
      "text/plain": [
       "<Figure size 432x288 with 2 Axes>"
      ]
     },
     "metadata": {
      "needs_background": "light"
     },
     "output_type": "display_data"
    }
   ],
   "source": [
    "sns.heatmap(sheet.corr())"
   ]
  },
  {
   "cell_type": "markdown",
   "id": "fc489a89",
   "metadata": {},
   "source": [
    "Decision Tree Regression"
   ]
  },
  {
   "cell_type": "code",
   "execution_count": 18,
   "id": "3b9e495d",
   "metadata": {},
   "outputs": [
    {
     "name": "stdout",
     "output_type": "stream",
     "text": [
      "mse= 22.3463687150838\n"
     ]
    }
   ],
   "source": [
    "from sklearn.tree import DecisionTreeRegressor,plot_tree\n",
    "model_4= DecisionTreeRegressor(criterion='squared_error',max_depth=3)\n",
    "model_4=model_4.fit(x_train,y_train)\n",
    "y_hat=model_3.predict(x_test)\n",
    "mse=mean_squared_error(y_test,y_hat)*100\n",
    "\n",
    "print(\"mse=\",mse)"
   ]
  },
  {
   "cell_type": "markdown",
   "id": "e0a3e840",
   "metadata": {},
   "source": [
    "KNeighbors Regression"
   ]
  },
  {
   "cell_type": "code",
   "execution_count": 19,
   "id": "91a24250",
   "metadata": {},
   "outputs": [
    {
     "name": "stdout",
     "output_type": "stream",
     "text": [
      "mse= 22.3463687150838\n"
     ]
    }
   ],
   "source": [
    "from sklearn.neighbors import KNeighborsRegressor\n",
    "model_5=KNeighborsRegressor(n_neighbors=80)\n",
    "model_5.fit(x_train,y_train)\n",
    "y_hat=model.predict(x_test)\n",
    "y_hat\n",
    "mse=mean_squared_error(y_test,y_hat)*100\n",
    "\n",
    "print(\"mse=\",mse)\n"
   ]
  },
  {
   "cell_type": "markdown",
   "id": "3878fef5",
   "metadata": {},
   "source": [
    "KNeighborsClassifion"
   ]
  },
  {
   "cell_type": "code",
   "execution_count": 20,
   "id": "e9a9ea8e",
   "metadata": {},
   "outputs": [
    {
     "data": {
      "text/plain": [
       "78.77094972067039"
      ]
     },
     "execution_count": 20,
     "metadata": {},
     "output_type": "execute_result"
    }
   ],
   "source": [
    "from sklearn.neighbors import KNeighborsClassifier\n",
    "model_6=KNeighborsClassifier(n_neighbors=70)\n",
    "model_6.fit(x_train,y_train)\n",
    "y_hat=model_6.predict(x_test)\n",
    "accuracy=accuracy_score(y_test,y_hat)*100\n",
    "accuracy\n"
   ]
  },
  {
   "cell_type": "markdown",
   "id": "d3681ca7",
   "metadata": {},
   "source": [
    "GaussianNB"
   ]
  },
  {
   "cell_type": "code",
   "execution_count": 21,
   "id": "c6fa4f27",
   "metadata": {},
   "outputs": [
    {
     "data": {
      "text/plain": [
       "78.2122905027933"
      ]
     },
     "execution_count": 21,
     "metadata": {},
     "output_type": "execute_result"
    }
   ],
   "source": [
    "from sklearn.naive_bayes import GaussianNB\n",
    "model_10=GaussianNB()\n",
    "model_10.fit(x_train,y_train)\n",
    "model_10.score(x_test,y_test)\n",
    "y_hat=model_10.predict(x_test)\n",
    "accuracy=accuracy_score(y_test,y_hat)*100\n",
    "accuracy"
   ]
  },
  {
   "cell_type": "markdown",
   "id": "b3d64cee",
   "metadata": {},
   "source": [
    "LogisticRegression"
   ]
  },
  {
   "cell_type": "code",
   "execution_count": 22,
   "id": "59e4c3c9",
   "metadata": {},
   "outputs": [
    {
     "data": {
      "text/plain": [
       "75.97765363128491"
      ]
     },
     "execution_count": 22,
     "metadata": {},
     "output_type": "execute_result"
    }
   ],
   "source": [
    "from sklearn import linear_model\n",
    "model_11=linear_model.LogisticRegression()\n",
    "model_11.fit(x_train,y_train)\n",
    "y_hat=model_11.predict(x_test)\n",
    "accuracy=accuracy_score(y_test,y_hat)*100\n",
    "accuracy"
   ]
  },
  {
   "cell_type": "code",
   "execution_count": null,
   "id": "eb035077",
   "metadata": {},
   "outputs": [],
   "source": []
  },
  {
   "cell_type": "code",
   "execution_count": null,
   "id": "56fdd1de",
   "metadata": {},
   "outputs": [],
   "source": []
  },
  {
   "cell_type": "code",
   "execution_count": null,
   "id": "a6eae202",
   "metadata": {},
   "outputs": [],
   "source": []
  }
 ],
 "metadata": {
  "kernelspec": {
   "display_name": "Python 3 (ipykernel)",
   "language": "python",
   "name": "python3"
  },
  "language_info": {
   "codemirror_mode": {
    "name": "ipython",
    "version": 3
   },
   "file_extension": ".py",
   "mimetype": "text/x-python",
   "name": "python",
   "nbconvert_exporter": "python",
   "pygments_lexer": "ipython3",
   "version": "3.9.12"
  }
 },
 "nbformat": 4,
 "nbformat_minor": 5
}
